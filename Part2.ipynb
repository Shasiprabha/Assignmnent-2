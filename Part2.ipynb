{
  "nbformat": 4,
  "nbformat_minor": 0,
  "metadata": {
    "colab": {
      "provenance": []
    },
    "kernelspec": {
      "name": "python3",
      "display_name": "Python 3"
    },
    "language_info": {
      "name": "python"
    }
  },
  "cells": [
    {
      "cell_type": "code",
      "execution_count": null,
      "metadata": {
        "colab": {
          "base_uri": "https://localhost:8080/",
          "height": 342
        },
        "id": "Kz_LSyYhWmQT",
        "outputId": "d79a5944-8e43-4912-ad74-6b55f9635bfc"
      },
      "outputs": [
        {
          "output_type": "stream",
          "name": "stdout",
          "text": [
            "[[False False False ... False False False]\n",
            " [False False False ... False False False]\n",
            " [False False False ... False False False]\n",
            " ...\n",
            " [False False False ... False False False]\n",
            " [False False False ... False False False]\n",
            " [False False False ... False False False]]\n"
          ]
        },
        {
          "output_type": "stream",
          "name": "stderr",
          "text": [
            "WARNING:matplotlib.image:Clipping input data to the valid range for imshow with RGB data ([0..1] for floats or [0..255] for integers).\n"
          ]
        },
        {
          "output_type": "execute_result",
          "data": {
            "text/plain": [
              "(-0.5, 1279.5, 719.5, -0.5)"
            ]
          },
          "metadata": {},
          "execution_count": 1
        },
        {
          "output_type": "display_data",
          "data": {
            "text/plain": [
              "<Figure size 640x480 with 2 Axes>"
            ],
            "image/png": "[encoded data removed]"
          },
          "metadata": {}
        }
      ],
      "source": [
        "from skimage import io\n",
        "import numpy as np\n",
        "from scipy.ndimage import gaussian_filter\n",
        "import cv2\n",
        "import matplotlib.pyplot as plt\n",
        "\n",
        "image = cv2.imread('image2.jpeg')\n",
        "\n",
        "\n",
        "def region_growing(image, seeds, threshold):\n",
        "\n",
        "  new_image = np.zeros((image.shape[0], image.shape[1]))\n",
        "\n",
        "  for x in range(image.shape[0]):\n",
        "    for y in range(image.shape[1]):\n",
        "      new_image[x, y] = image[x, y, 0]\n",
        "\n",
        "  rows, cols = new_image.shape\n",
        "\n",
        "  # Initialize segmentation mask\n",
        "  segmentation = np.zeros_like(new_image, dtype=bool)\n",
        "\n",
        "  # Process each seed point\n",
        "  for seed in seeds:\n",
        "    seed_row, seed_col = seed\n",
        "    if not (0 <= seed_row < rows and 0 <= seed_col < cols):\n",
        "      continue\n",
        "\n",
        "    # Queue for breadth-first search\n",
        "    queue = [(seed_row, seed_col)]\n",
        "    visited = set()\n",
        "\n",
        "    while queue:\n",
        "      row, col = queue.pop(0)\n",
        "      if (row, col) in visited:\n",
        "        continue\n",
        "      visited.add((row, col))\n",
        "      segmentation[row, col] = True\n",
        "\n",
        "      # Check neighboring pixels\n",
        "      for drow, dcol in [(-1, 0), (1, 0), (0, -1), (0, 1)]:\n",
        "        new_row, new_col = row + drow, col + dcol\n",
        "        if not (0 <= new_row < rows and 0 <= new_col < cols):\n",
        "          continue\n",
        "        if segmentation[new_row, new_col]:\n",
        "          continue\n",
        "        if abs(new_image[row, col] - new_image[new_row, new_col]) <= threshold:\n",
        "          queue.append((new_row, new_col))\n",
        "\n",
        "  return segmentation\n",
        "\n",
        "\n",
        "seeds = [(360, 640), (365, 640), (355, 620), (340, 700), (400, 620), (405, 700)]\n",
        "threshold = 3\n",
        "\n",
        "segmentation = region_growing(image, seeds, threshold)\n",
        "\n",
        "print(segmentation)\n",
        "\n",
        "foreground = np.zeros((image.shape[0], image.shape[1], 3))\n",
        "\n",
        "for i in range(segmentation.shape[0]):\n",
        "  for j in range(segmentation.shape[1]):\n",
        "    if(segmentation[i, j] == True):\n",
        "        foreground[i,j] = [0,0,0]\n",
        "    else:\n",
        "        foreground[i,j] = [255,255,255]\n",
        "\n",
        "plt.subplot(1, 2, 1)\n",
        "plt.imshow(image, cmap='gray')\n",
        "plt.title(\"Theoriginal image\")\n",
        "plt.axis('off')\n",
        "\n",
        "plt.subplot(1, 2, 2)\n",
        "plt.imshow(foreground, cmap='gray')\n",
        "plt.title(\"The Foreground\")\n",
        "plt.axis('off')"
      ]
    }
  ]
}